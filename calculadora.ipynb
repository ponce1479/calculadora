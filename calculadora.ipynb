{
 "cells": [
  {
   "cell_type": "markdown",
   "id": "b4a065e0",
   "metadata": {},
   "source": [
    "Se va a crear una calculadora, en el cual tendrá un Menú las operaciones basicas sumar, restar, multiplicar y dividir, una salida del sistema."
   ]
  },
  {
   "cell_type": "code",
   "execution_count": null,
   "id": "95b7fe24",
   "metadata": {},
   "outputs": [
    {
     "name": "stdout",
     "output_type": "stream",
     "text": [
      "hola a todos\n"
     ]
    }
   ],
   "source": [
    "print(\"hola a todos\")"
   ]
  }
 ],
 "metadata": {
  "kernelspec": {
   "display_name": "Python 3",
   "language": "python",
   "name": "python3"
  },
  "language_info": {
   "codemirror_mode": {
    "name": "ipython",
    "version": 3
   },
   "file_extension": ".py",
   "mimetype": "text/x-python",
   "name": "python",
   "nbconvert_exporter": "python",
   "pygments_lexer": "ipython3",
   "version": "3.13.2"
  }
 },
 "nbformat": 4,
 "nbformat_minor": 5
}
