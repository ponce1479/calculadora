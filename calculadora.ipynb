{
 "cells": [
  {
   "cell_type": "markdown",
   "id": "b4a065e0",
   "metadata": {},
   "source": [
    "Se va a crear una calculadora, en el cual tendrá un Menú las operaciones basicas sumar, restar, multiplicar y dividir, una salida del sistema."
   ]
  },
  {
   "cell_type": "code",
   "execution_count": null,
   "id": "95b7fe24",
   "metadata": {},
   "outputs": [
    {
     "name": "stdout",
     "output_type": "stream",
     "text": [
      "hola a todos\n",
      "la division de a yb  es:  Error: division por cero\n"
     ]
    }
   ],
   "source": [
    "print(\"hola a todos\")\n",
    "\n",
    "\n",
    "op =int(input(\"ingrese la operacion que desea realizar: 1.sumar 2.restar 3.multiplicar 4.dividir 5.salir\"))\n",
    "\n",
    "a = int(input(\"ingrese el primer numero: \"))\n",
    "b = int(input(\"ingrese el segundo numero: \"))\n",
    "\n",
    "\n",
    "def sumar(a, b):\n",
    "    return a + b\n",
    "def restar(a, b):\n",
    "    return a - b\n",
    "def multiplicar(a, b):\n",
    "    return a * b\n",
    "def dividir(a, b):\n",
    "    if b == 0:\n",
    "        return \"Error: division por cero\"\n",
    "    return a / b\n",
    "\n",
    "if op == 1:\n",
    "    print(\"la suma de a y b es: \",sumar(a,b))\n",
    "elif op == 2:\n",
    "    print(\"la resta de a y b es: \",restar(a,b))\n",
    "elif op == 3:\n",
    "    print(\"la multiplicacion de a y b es: \",multiplicar(a,b))\n",
    "elif op == 4:\n",
    "    print(\"la division de a y b  es: \",dividir(a,b))\n",
    "else:\n",
    "    print(\"Salir\")\n",
    "\n",
    "\n",
    "\n"
   ]
  }
 ],
 "metadata": {
  "kernelspec": {
   "display_name": "Python 3",
   "language": "python",
   "name": "python3"
  },
  "language_info": {
   "codemirror_mode": {
    "name": "ipython",
    "version": 3
   },
   "file_extension": ".py",
   "mimetype": "text/x-python",
   "name": "python",
   "nbconvert_exporter": "python",
   "pygments_lexer": "ipython3",
   "version": "3.13.2"
  }
 },
 "nbformat": 4,
 "nbformat_minor": 5
}
